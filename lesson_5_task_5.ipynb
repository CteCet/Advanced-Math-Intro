{
 "cells": [
  {
   "cell_type": "code",
   "execution_count": 5,
   "metadata": {},
   "outputs": [],
   "source": [
    "import numpy as np\n",
    "import matplotlib.pyplot as plt\n",
    "import math"
   ]
  },
  {
   "cell_type": "code",
   "execution_count": 7,
   "metadata": {},
   "outputs": [
    {
     "name": "stdout",
     "output_type": "stream",
     "text": [
      "0.6729511036667104 0.17802899035629655\n",
      "0.6729511036667096 0.17802899035629705\n",
      "[-3.07422893e+13  1.00101729e+13  3.77937550e+13  1.78264284e+12\n",
      "  2.65168236e+13  4.48893066e+13  3.27495301e+12  6.72653053e+12\n",
      " -2.45120745e+13 -4.51735693e+10 -1.50510280e+13  2.79497069e+13\n",
      "  1.44896263e+13  3.48101680e+13  4.42020986e+13  4.30724444e+13\n",
      "  3.60528942e+13  1.97136302e+13 -3.14887921e+13  4.34637089e+13\n",
      " -3.04851594e+13 -4.45957458e+13 -4.51425747e+13 -1.42261276e+13\n",
      "  2.66043362e+13  2.68499094e+13 -3.80700637e+13 -2.85204234e+13\n",
      "  5.04403565e+13 -2.49355097e+13  2.42852722e+13  2.23773126e+12\n",
      " -3.35171236e+13  8.67247468e+12 -5.65142970e+13 -1.29013777e+13\n",
      " -4.94212764e+11  8.88437175e+12 -2.32735056e+13 -1.51939599e+13\n",
      "  9.01238078e+12  1.34463604e+13 -4.75194546e+13  1.01235482e+13\n",
      "  1.37969807e+13  6.37398604e+12  1.82414542e+12 -4.36070677e+13\n",
      " -2.91115381e+13 -4.58713410e+12  5.05494078e+13 -3.03528725e+13\n",
      "  4.01530649e+13  2.48051623e+13  2.71606956e+13  7.24951318e+12\n",
      "  9.35460356e+12 -1.36404736e+13 -2.00980770e+13  2.05050898e+13\n",
      " -2.50137582e+12 -7.93529367e+12 -3.06066648e+13 -2.29674419e+13\n",
      " -4.54636042e+13  3.34826506e+13 -2.55606833e+12 -2.13612864e+12\n",
      "  2.02321688e+13  1.47060523e+13  6.45085648e+12 -2.64058340e+13\n",
      "  5.00060339e+12 -3.84705534e+13 -1.20684873e+13  1.20317385e+13\n",
      " -4.43181735e+13 -1.35857903e+13  6.80048664e+12  2.68569421e+13\n",
      "  1.65362489e+13  1.98646685e+13  2.39977738e+13  3.63632425e+13\n",
      " -2.13625072e+13  3.40706031e+13 -3.34774873e+12 -3.56787808e+13\n",
      "  4.76968582e+12 -3.19766549e+13  2.32878887e+13 -2.91785407e+13\n",
      " -1.53313531e+13 -4.22437713e+13  3.13609085e+12 -3.81037392e+13\n",
      " -2.37741520e+13  3.68510991e+13  2.36859029e+13  2.34361644e+13]\n"
     ]
    },
    {
     "name": "stderr",
     "output_type": "stream",
     "text": [
      "C:\\Users\\Frida\\Anaconda3\\lib\\site-packages\\ipykernel_launcher.py:10: FutureWarning: `rcond` parameter will change to the default of machine precision times ``max(M, N)`` where M and N are the input matrix dimensions.\n",
      "To use the future default and silence this warning we advise to pass `rcond=None`, to keep using the old, explicitly pass `rcond=-1`.\n",
      "  # Remove the CWD from sys.path while we load stuff.\n"
     ]
    },
    {
     "data": {
      "image/png": "[encoded data removed]",
      "text/plain": [
       "<Figure size 432x288 with 1 Axes>"
      ]
     },
     "metadata": {
      "needs_background": "light"
     },
     "output_type": "display_data"
    }
   ],
   "source": [
    "n = 100\n",
    "r = 0.7\n",
    "x = np.random.rand(n)\n",
    "y = r*x + (1-r)*np.random.rand(n)\n",
    "plt.plot(x, y, 'o')\n",
    "plt.grid(True)\n",
    "a = (np.sum(x)*np.sum(y) - n*np.sum(x*y))/(np.sum(x)*np.sum(x) - n*np.sum(x*x))\n",
    "b=(np.sum(y) - a*np.sum(x))/n\n",
    "A = np.vstack([x, np.ones(len(x))]).T\n",
    "a1,b1=np.linalg.lstsq(A,y)[0]\n",
    "print(a,b)\n",
    "print(a1,b1)\n",
    "plt.plot([0, 1], [b, a + b])\n",
    "\n",
    "x_mean = np.mean(x)\n",
    "y_mean = np.mean(y)\n",
    "R = (np.sum(x - x_mean))*(y - y_mean)/math.sqrt((np.sum(x - x_mean)**2)*(np.sum(y - y_mean)**2))\n",
    "print(R)\n",
    "\n",
    "plt.show()"
   ]
  },
  {
   "cell_type": "code",
   "execution_count": null,
   "metadata": {},
   "outputs": [],
   "source": []
  }
 ],
 "metadata": {
  "kernelspec": {
   "display_name": "Python 3",
   "language": "python",
   "name": "python3"
  },
  "language_info": {
   "codemirror_mode": {
    "name": "ipython",
    "version": 3
   },
   "file_extension": ".py",
   "mimetype": "text/x-python",
   "name": "python",
   "nbconvert_exporter": "python",
   "pygments_lexer": "ipython3",
   "version": "3.7.4"
  }
 },
 "nbformat": 4,
 "nbformat_minor": 2
}
