{
 "cells": [
  {
   "cell_type": "code",
   "execution_count": 1,
   "metadata": {},
   "outputs": [],
   "source": [
    "%matplotlib inline\n",
    "import numpy as np"
   ]
  },
  {
   "cell_type": "code",
   "execution_count": 6,
   "metadata": {},
   "outputs": [
    {
     "name": "stdout",
     "output_type": "stream",
     "text": [
      "1\n",
      "Lose\n",
      "Выпало 0\n",
      "2\n",
      "Lose\n",
      "Выпало 1\n",
      "3\n",
      "Lose\n",
      "Выпало 2\n",
      "4\n",
      "Lose\n",
      "Выпало 1\n",
      "1\n",
      "Win\n",
      "Выпало 1\n"
     ]
    }
   ],
   "source": [
    "for i in range (0,5):\n",
    "    a = int(input())\n",
    "    x = np.random.randint(0,36)\n",
    "    if a == x:\n",
    "        print(\"Вы выиграли\")\n",
    "    else:\n",
    "        print(\"Вы проиграли\")\n",
    "    print('Выпало', x)"
   ]
  },
  {
   "cell_type": "markdown",
   "metadata": {},
   "source": []
  }
 ],
 "metadata": {
  "kernelspec": {
   "display_name": "Python 3",
   "language": "python",
   "name": "python3"
  },
  "language_info": {
   "codemirror_mode": {
    "name": "ipython",
    "version": 3
   },
   "file_extension": ".py",
   "mimetype": "text/x-python",
   "name": "python",
   "nbconvert_exporter": "python",
   "pygments_lexer": "ipython3",
   "version": "3.7.4"
  }
 },
 "nbformat": 4,
 "nbformat_minor": 2
}
